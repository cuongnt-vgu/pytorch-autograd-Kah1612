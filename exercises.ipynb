{
 "cells": [
  {
   "cell_type": "code",
   "execution_count": 2,
   "metadata": {},
   "outputs": [],
   "source": [
    "from torch import nn\n",
    "import torch"
   ]
  },
  {
   "cell_type": "markdown",
   "metadata": {},
   "source": [
    "##### Attention:\n",
    "For this lab, there are no local answers for the questions in learntools. However, there are some assertions for the first 4 questions. You should pass all of the assertions before submitting to the autograding.\n",
    "\n",
    "Some of the questions use mathematical symbols and equations to depict the scenario. These are just some basic \"formal\" definitions and you should understand them. In case you haven't understood them, read again and give yourself sometime to ponder. If there is any error or details in the questions that heavily confuse you, please post your concerns on Google Classroom. "
   ]
  },
  {
   "cell_type": "markdown",
   "metadata": {},
   "source": [
    "## Questions"
   ]
  },
  {
   "cell_type": "markdown",
   "metadata": {},
   "source": [
    "### Q1: Given a function $f(x) = x^2 + 3x + 8$, return the gradient of $x$ when $x=2.0$ using pytorch autograd. The gradient tensor should have type torch.float32 and dim=0."
   ]
  },
  {
   "cell_type": "code",
   "execution_count": 1,
   "metadata": {},
   "outputs": [
    {
     "ename": "NameError",
     "evalue": "name 'torch' is not defined",
     "output_type": "error",
     "traceback": [
      "\u001b[31m---------------------------------------------------------------------------\u001b[39m",
      "\u001b[31mNameError\u001b[39m                                 Traceback (most recent call last)",
      "\u001b[36mCell\u001b[39m\u001b[36m \u001b[39m\u001b[32mIn[1]\u001b[39m\u001b[32m, line 1\u001b[39m\n\u001b[32m----> \u001b[39m\u001b[32m1\u001b[39m \u001b[38;5;28;01mdef\u001b[39;00m\u001b[38;5;250m \u001b[39m\u001b[34mexercise_1\u001b[39m() -> \u001b[43mtorch\u001b[49m.Tensor:\n\u001b[32m      3\u001b[39m     x = torch.tensor(\u001b[32m2.0\u001b[39m, dtype=torch.float32, requires_grad=\u001b[38;5;28;01mTrue\u001b[39;00m)\n\u001b[32m      4\u001b[39m     y = x*x + \u001b[32m3\u001b[39m*x + \u001b[32m8\u001b[39m\n",
      "\u001b[31mNameError\u001b[39m: name 'torch' is not defined"
     ]
    }
   ],
   "source": [
    "def exercise_1() -> torch.Tensor:\n",
    "    \n",
    "    x = torch.tensor(2.0, dtype=torch.float32, requires_grad=True)\n",
    "    y = x*x + 3*x + 8\n",
    "    y.backward()\n",
    "    grad_x = x.grad\n",
    "\n",
    "    print(grad_x)         \n",
    "    print(grad_x.dtype)   \n",
    "    print(grad_x.dim())\n",
    "    return grad_x  \n",
    "    raise NotImplementedError\n",
    "\n",
    "ex1_sol = exercise_1()\n",
    "assert torch.equal(ex1_sol, torch.tensor(7.0))"
   ]
  },
  {
   "cell_type": "markdown",
   "metadata": {},
   "source": [
    "### Q2: A typical layer in a Neural Network would look like $f(x) = w_1 x_1 + w_2 x_2 + w_3 x_3 + ... + b$, where $w_j$ is the j-th weight of the function and $b$ is its bias. This function outputs a result for a multi-dimension input, where $x_j$ is the j-th feature of the input. Implement this function, return the gradients of each weight for a given input `x` and the output using `tuple` with the formar `(output, weight_grads_tensor)`. The weights should be randomized using `torch.randn()` and the bias must be set to $5.0$. The input used by the autograder will be the same size as the one given below."
   ]
  },
  {
   "cell_type": "code",
   "execution_count": null,
   "metadata": {},
   "outputs": [
    {
     "name": "stdout",
     "output_type": "stream",
     "text": [
      "(tensor(-3.7311, grad_fn=<AddBackward0>), tensor([1., 2., 3., 4., 5.]))\n"
     ]
    }
   ],
   "source": [
    "x = torch.tensor([1, 2, 3, 4, 5])\n",
    "\n",
    "def exercise_2(x) -> tuple:\n",
    "    # all the output and gradients are tensors\n",
    "\n",
    "    torch.manual_seed(0) # must set seed=0 before random your weight\n",
    "    x = x.to(torch.float32)\n",
    "    w = torch.randn(len(x), dtype=torch.float32,requires_grad=True)\n",
    "    b = torch.tensor(5.0, dtype=torch.float32, requires_grad=True)\n",
    "    y = w@x+b\n",
    "    y.backward()\n",
    "    print((y,w.grad))\n",
    "    return (y,w.grad)\n",
    "    raise NotImplementedError\n",
    "\n",
    "ex2_sol = exercise_2(x)\n",
    "\n",
    "assert (ex2_sol[0] - torch.tensor(-3.7311) < 1e-4).item()\n",
    "assert torch.equal(ex2_sol[1], torch.tensor([1, 2, 3, 4, 5], dtype=torch.float32))"
   ]
  },
  {
   "cell_type": "markdown",
   "metadata": {},
   "source": [
    "### Q3: Suppose each feature $x_j$ needs a separate function $f_j(x_j)$, where $f_j(x_j) = w_j x_j + b_j$. In other words, each feature requires a function, which has a separate set of 1 weight and 1 bias. Therefore, the output $y$ of your function $G(x)=[f_1(x_1), f_2(x_2), ..., f_n(x_n)]$ should be $y = [(w_1 x_1 + b_1), (w_2 x_2 + b_2), ..., (w_n x_n + b_n)]$ (**note:** these are matrices written lazily with markdown). Implement the function $G(x)$, return the output and the gradient sets for each function for a given `x`. The weights should be randomized using `torch.randn()`, and the bias is the same as $j$ of $f_j()$ (for example: $b_1 = 1.0$, $b_2 = 2.0$). The input used by the autograder will be the same size as the one given below."
   ]
  },
  {
   "cell_type": "code",
   "execution_count": null,
   "metadata": {},
   "outputs": [],
   "source": [
    "x = torch.tensor([1, 2, 3, 4, 5])\n",
    "\n",
    "def exercise_3(x) -> tuple:\n",
    "     # all the output and gradients are tensors\n",
    "    \n",
    "    torch.manual_seed(0) # must set seed=0 before random your weight\n",
    "    weights = torch.randn(x.shape, requires_grad=True)\n",
    "    biases = torch.arange(1, x.shape[0]+1, dtype = torch.float32)\n",
    "    functions = weights*x.to(torch.float32) + biases\n",
    "    functions.backward(torch.ones(x.shape[0]))\n",
    "    return (functions, weights.grad)\n",
    "    # you must return in this format\n",
    "    # return (output, weight_grads_tensor)\n",
    "    raise NotImplementedError\n",
    "\n",
    "ex3_sol = exercise_3(x)\n",
    "assert torch.all((ex3_sol[0] - torch.tensor([ 2.5410,  1.4131, -3.5364,  6.2737, -0.4226 ], dtype=torch.float32)) < 5e-4).item()\n",
    "assert torch.equal(ex3_sol[1], torch.tensor([1, 2, 3, 4, 5], dtype=torch.float32))\n",
    "# q3.check()"
   ]
  },
  {
   "cell_type": "markdown",
   "metadata": {},
   "source": [
    "### Q4: Using the function $f(x)$ similar to the one in question 2, implement the function with random weights and bias (must use `torch.manual_seed(0)` before each initialization). Calculate the Mean Squared Error between the `target` and your function prediction on the `data` as a loss metric, then return a tuple containing the gradients of your function weights and bias based on the calculated loss."
   ]
  },
  {
   "cell_type": "code",
   "execution_count": null,
   "metadata": {},
   "outputs": [],
   "source": [
    "data = torch.tensor([2.0, 3.0, 4.0, 5.0, 6.0, 7.0, 8.0, 9.0, 10.0, 11.0])\n",
    "target = torch.tensor([2.0])\n",
    "\n",
    "import torch.nn.functional as F\n",
    "def exercise_4(data, target) -> tuple:\n",
    "    # both gradients are tensors\n",
    "    torch.manual_seed(0)\n",
    "    weights = torch.randn(data.shape[0], requires_grad=True)\n",
    "    biases = torch.randn(1, requires_grad=True)\n",
    "    function = weights@data.to(torch.float32) + biases\n",
    "    loss = F.mse_loss(function, target)\n",
    "    loss.backward()\n",
    "    return weights.grad, biases.grad\n",
    "    # you must return in this format\n",
    "    # return (weight_grads_tensor, bias_grads_tensor)\n",
    "    raise NotImplementedError\n",
    "\n",
    "ex4_sol = exercise_4(data, target)\n",
    "assert ex4_sol[0].dim() == 1 and ex4_sol[1].dim() == 1, print(\"All tensors must have dim == 1\")\n",
    "assert torch.all((ex4_sol[0] - torch.tensor([-85.1518, -127.7277, -170.3036, -212.8795, -255.4553, -298.0312, -340.6071, -383.1830, -425.7589, -468.3348], dtype=torch.float32)) < 5e-4)\n",
    "assert torch.all((ex4_sol[1] - torch.tensor([-42.5759], dtype=torch.float32)) < 5e-4)"
   ]
  },
  {
   "cell_type": "markdown",
   "metadata": {},
   "source": [
    "### Q5: This question worth 40% the points of this lab. Your solution for this question will be graded manually by the TAs, hence you will be informed later for the total points for this lab after the deadline has been met."
   ]
  },
  {
   "cell_type": "markdown",
   "metadata": {},
   "source": [
    "**Note**: This question will not focus on getting the right results as your implementation is more important. Therefore there will be no local answer or autograding."
   ]
  },
  {
   "cell_type": "markdown",
   "metadata": {},
   "source": [
    "#### Create a small neural network consisting 2 Linear layers, each followed by a Sigmoid activation function. The template code has been provided below including the return format (`x` should be replaced by the final `tensor` after the forward pass). Your code must use layers and functions provided by `pytorch`. Initialize all necessary components that can be used during the training phase including a Binary Cross Entropy Loss function and a Gradient Descent optimizer. Train your model for 2 epochs with a proper train loop, then make a prediction on a given `val_x` and return your prediction."
   ]
  },
  {
   "cell_type": "markdown",
   "metadata": {},
   "source": [
    "**Note**: the first Linear Layer can have any `in_features` and `out_features`, but the last Linear Layer must have `out_features=2`. Your model will consume the whole input for each epoch, so you don't need to separate the input into batches."
   ]
  },
  {
   "cell_type": "markdown",
   "metadata": {},
   "source": [
    "*Context*: This part is not necessary for your implementation, but it could help you to understand the work that your network is simulating. The `train_x` consists grades for 5 subjects of 20 students, with the minimum grade is 1 and the maximum is 10. The problem is a classification task, when your model predicts if a student is good or bad based on their 5 grades. That is the reason why the final layer must have 2 output features, which correspond to the 2 classes \"good\" and \"bad\"."
   ]
  },
  {
   "cell_type": "code",
   "execution_count": null,
   "metadata": {},
   "outputs": [
    {
     "name": "stdout",
     "output_type": "stream",
     "text": [
      "Class 0 count: 13\n",
      "Class 1 count: 7\n",
      "Loss in epoch 1: 0.6783\n",
      "Loss in epoch 2: 0.6776\n",
      "Predicted: tensor([0, 0, 0, 0, 0, 0, 0, 0, 1, 0])\n"
     ]
    }
   ],
   "source": [
    "import torch\n",
    "import torch.nn as nn\n",
    "\n",
    "# Set random seed to make results consistent every time we run the code\n",
    "torch.manual_seed(0)\n",
    "\n",
    "# Generate training data: 20 students, each with 5 subject scores (between 1 and 9)\n",
    "train_x = torch.randint(1, 10, (20, 5), dtype=torch.float32)\n",
    "\n",
    "# Label the students: if total score > 30, label as 1 (good); otherwise 0 (bad)\n",
    "train_y = (train_x.sum(1) > 30).float()\n",
    "\n",
    "# Just printing how many students are in each class\n",
    "print(\"Class 0 count:\", (train_y == 0).sum().item())  # \"bad\" students\n",
    "print(\"Class 1 count:\", (train_y == 1).sum().item())  # \"good\" students\n",
    "\n",
    "# Create validation data: 10 new students with random scores\n",
    "val_x = torch.randint(3, 10, (10, 5), dtype=torch.float32)\n",
    "\n",
    "def exercise_5(train_x, train_y, val_x) -> torch.Tensor:\n",
    "\n",
    "    # Define a simple neural network with 2 linear layers\n",
    "    class MyNetwork(nn.Module):\n",
    "        def __init__(self):\n",
    "            super().__init__()\n",
    "            self.linear1 = nn.Linear(5, 5)   # First layer: input size 5 -> hidden size 5\n",
    "            self.linear2 = nn.Linear(5, 2)   # Second layer: output 2 scores for 2 classes\n",
    "\n",
    "        def forward(self, x):\n",
    "            x = self.linear1(x)             # Apply first linear layer\n",
    "            x = nn.Sigmoid()(x)             # Sigmoid activation after first layer\n",
    "            x = self.linear2(x)             # Apply second linear layer\n",
    "            return x                        # No activation here since we're using CrossEntropyLoss\n",
    "\n",
    "    # Create model\n",
    "    model = MyNetwork()\n",
    "\n",
    "    # CrossEntropyLoss is used for classification when output has 2 or more classes\n",
    "    loss = nn.CrossEntropyLoss()\n",
    "\n",
    "    # Use SGD optimizer with a learning rate of 0.01\n",
    "    optimizer = torch.optim.SGD(model.parameters(), lr=0.01)\n",
    "\n",
    "    # Training loop – we only train for 2 epochs as instructed\n",
    "    for i in range(2):\n",
    "        output = model(train_x)                        # Get model predictions\n",
    "        loss_value = loss(output, train_y.long())      # Compute loss (target needs to be long type)\n",
    "        \n",
    "        optimizer.zero_grad()                          # Clear previous gradients\n",
    "        loss_value.backward()                          # Backpropagation\n",
    "        optimizer.step()                               # Update weights\n",
    "\n",
    "        print(f\"Loss in epoch {i+1}: {loss_value.item():.4f}\")  # Show the loss\n",
    "\n",
    "    # After training, let's predict on the validation set\n",
    "    with torch.no_grad():                              # No gradient tracking during eval\n",
    "        val_output = model(val_x)                      # Get model predictions on val set\n",
    "        predicted = torch.argmax(val_output, dim=1)    # Take class with highest score\n",
    "\n",
    "    return predicted  # Return predicted class labels (0 or 1)\n",
    "    raise NotImplementedError\n",
    "\n",
    "# Call the function and print predictions on the validation data\n",
    "ex5_sol = exercise_5(train_x=train_x, train_y=train_y, val_x=val_x)\n",
    "\n"
   ]
  }
 ],
 "metadata": {
  "kernelspec": {
   "display_name": "Python 3",
   "language": "python",
   "name": "python3"
  },
  "language_info": {
   "codemirror_mode": {
    "name": "ipython",
    "version": 3
   },
   "file_extension": ".py",
   "mimetype": "text/x-python",
   "name": "python",
   "nbconvert_exporter": "python",
   "pygments_lexer": "ipython3",
   "version": "3.12.1"
  }
 },
 "nbformat": 4,
 "nbformat_minor": 2
}
